{
 "cells": [
  {
   "cell_type": "markdown",
   "metadata": {},
   "source": [
    "# Pathfinder Character Generator"
   ]
  },
  {
   "cell_type": "code",
   "execution_count": null,
   "metadata": {},
   "outputs": [],
   "source": [
    "# character_creator.py\n",
    "# helps to generate a character for some rpg system\n",
    "\n",
    "# roll stats\n",
    "# pick race\n",
    "# pick class\n",
    "# roll hit points\n",
    "# select equipment\n",
    "# select weapons\n",
    "\n",
    "import random\n",
    "import ast"
   ]
  },
  {
   "cell_type": "code",
   "execution_count": null,
   "metadata": {},
   "outputs": [],
   "source": [
    "# class Dice(object):\n",
    "#     def __init__(self, sides):\n",
    "#         self.sides = sides\n",
    "\n",
    "def rolldice(sides, numdice):\n",
    "    total = 0\n",
    "    for num in range(int(numdice)):\n",
    "        total = total + random.randint(1, int(sides))\n",
    "\n",
    "    return total"
   ]
  },
  {
   "cell_type": "code",
   "execution_count": null,
   "metadata": {},
   "outputs": [],
   "source": [
    "# sides = input(\"Which dice would you like to roll? [2,4,6,8,10,12,20,100] > \")\n",
    "# numdice = input(\"How many d\" + sides + \" would you like to roll? > \")\n",
    "#\n",
    "# total = rolldice(sides, numdice)\n",
    "#\n",
    "# print(total)\n",
    "\n",
    "\n",
    "character = {}\n",
    "abilities = ['strength', 'constitution', 'dexterity', 'intelligence', 'wisdom', 'charisma']\n",
    "skills = [['acrobatics', 2], ['appraise', 3], ['bluff', 5], ['climb', 0], ['craft', 3], ['diplomacy', 5], ['disable device', 2],\n",
    "          ['disguise', 5], ['escape artist', 2], ['fly', 2], ['handle animal', 5], ['heal', 4], ['intimidate', 5], ['linguistics', 3],\n",
    "          ['perception', 4], ['perform', 5], ['profession', 4], ['ride', 2], ['sense motive', 4], ['sleight of hand', 2],\n",
    "          ['spellcraft', 3], ['stealth', 2], ['survival', 4], ['swim', 0], ['use magic device', 5], ['knowledge (arcana)', 3],\n",
    "          ['knowledge (dungeoneering)', 3], ['knowledge (engineering)', 3], ['knowledge (geography)', 3], ['knowledge (history)', 3],\n",
    "          ['knowledge (local)', 3], ['knowledge (nature)', 3], ['knowledge (nobility)', 3], ['knowledge (planes)', 3],\n",
    "          ['knowledge (religion)', 3]]"
   ]
  },
  {
   "cell_type": "code",
   "execution_count": null,
   "metadata": {},
   "outputs": [],
   "source": [
    "# Rolling up a set of stats values\n",
    "\n",
    "def rollStats():\n",
    "    statvalues = []\n",
    "\n",
    "    for stat in range(6):\n",
    "        rolls = []\n",
    "        for x in range(4):\n",
    "            roll = rolldice(6,1)\n",
    "            if roll > 1:\n",
    "                rolls.append(roll)\n",
    "            else:\n",
    "                roll = 2\n",
    "                rolls.append(roll)\n",
    "\n",
    "        rolls.sort()\n",
    "        statvalue = rolls[1] + rolls[2] + rolls[3]\n",
    "        statvalues.append(statvalue)\n",
    "\n",
    "    return statvalues"
   ]
  },
  {
   "cell_type": "code",
   "execution_count": null,
   "metadata": {},
   "outputs": [],
   "source": [
    "# Calculating ability modifiers\n",
    "\n",
    "def abilityMods(scores):\n",
    "    modifiers = []\n",
    "\n",
    "    for score in scores:\n",
    "        if score >= 18:\n",
    "            modifiers.append(\"+4\")\n",
    "        elif score >= 16:\n",
    "            modifiers.append(\"+3\")\n",
    "        elif score >= 14:\n",
    "            modifiers.append(\"+2\")\n",
    "        elif score >= 12:\n",
    "            modifiers.append(\"+1\")\n",
    "        elif score >= 10:\n",
    "            modifiers.append(\"0\")\n",
    "        elif score >= 8:\n",
    "            modifiers.append(\"-1\")\n",
    "        else:\n",
    "            modifiers.append(\"-2\")\n",
    "\n",
    "    return modifiers\n",
    "\n",
    "def modUpdate(score):\n",
    "\n",
    "    if score >= 18:\n",
    "        modifier = \"+4\"\n",
    "    elif score >= 16:\n",
    "        modifier = \"+3\"\n",
    "    elif score >= 14:\n",
    "        modifier = \"+2\"\n",
    "    elif score >= 12:\n",
    "        modifier = \"+1\"\n",
    "    elif score >= 10:\n",
    "        modifier = \"0\"\n",
    "    elif score >= 8:\n",
    "        modifier = \"-1\"\n",
    "    else:\n",
    "        modifier = \"-2\"\n",
    "\n",
    "    return modifier"
   ]
  },
  {
   "cell_type": "code",
   "execution_count": null,
   "metadata": {},
   "outputs": [],
   "source": [
    "# Print formatted statsblock\n",
    "\n",
    "def statsBlock(scores, modifiers):\n",
    "    print(\"    | Score | Modifier\\t|\\n\"\n",
    "          \"STR |   \" + str(scores[0]) + \"  |\\t\" + modifiers[0] + \"\\t\\t|\\n\"\n",
    "          \"CON |   \" + str(scores[1]) + \"  |\\t\" + modifiers[1] + \"\\t\\t|\\n\"\n",
    "          \"DEX |   \" + str(scores[2]) + \"  |\\t\" + modifiers[2] + \"\\t\\t|\\n\"\n",
    "          \"INT |   \" + str(scores[3]) + \"  |\\t\" + modifiers[3] + \"\\t\\t|\\n\"\n",
    "          \"WIS |   \" + str(scores[4]) + \"  |\\t\" + modifiers[4] + \"\\t\\t|\\n\"\n",
    "          \"CHA |   \" + str(scores[5]) + \"  |\\t\" + modifiers[5] + \"\\t\\t|\")\n"
   ]
  },
  {
   "cell_type": "code",
   "execution_count": null,
   "metadata": {},
   "outputs": [],
   "source": [
    "# Setting ability scores\n",
    "\n",
    "values = rollStats()\n",
    "\n",
    "statoptions = \"Your values are:\" \\\n",
    "              \"\\n\\t1. \" + str(values[0]) + \"\\n\\t2. \" + str(values[1]) + \"\\n\\t3. \" + str(values[2]) + \"\\n\\t4. \" + str(values[3]) + \"\\n\\t5. \" + str(values[4]) + \"\\n\\t6. \" + str(values[5])\n",
    "\n",
    "print(statoptions)\n",
    "\n",
    "print(\"\\nEnter which value you would like to set for each ability score.\\n\")\n",
    "\n",
    "statblock = []\n",
    "statblock.append(int(input(\"Set value for STRENGTH: \")))\n",
    "statblock.append(int(input(\"Set value for CONSTITUTION: \")))\n",
    "statblock.append(int(input(\"Set value for DEXTERITY: \")))\n",
    "statblock.append(int(input(\"Set value for INTELLIGENCE: \")))\n",
    "statblock.append(int(input(\"Set value for WISDOM: \")))\n",
    "statblock.append(int(input(\"Set value for CHARISMA: \")))\n",
    "\n",
    "character['statblock'] = statblock"
   ]
  },
  {
   "cell_type": "code",
   "execution_count": null,
   "metadata": {},
   "outputs": [],
   "source": [
    "# Setting ability modifiers\n",
    "\n",
    "abilitymodifiers = abilityMods(statblock)\n",
    "\n",
    "print(\"\\nYour ability scores and modifiers are:\\n\")\n",
    "\n",
    "statsBlock(statblock, abilitymodifiers)\n",
    "\n",
    "character['abilitymods'] = abilitymodifiers"
   ]
  },
  {
   "cell_type": "code",
   "execution_count": null,
   "metadata": {},
   "outputs": [],
   "source": [
    "# Pick a race\n",
    "\n",
    "with open(\"core_races.txt\", \"r\") as in_file:\n",
    "    core_races = ast.literal_eval(in_file.read())\n",
    "\n",
    "character['race'] = core_races[input('Pick your race: >\\n\\tDwarf\\n\\tElf\\n\\tHalf-Elf\\n\\tHalf-Orc\\n\\tHalfling\\n\\tHuman\\n\\tGnome\\n> ').lower()]\n",
    "\n",
    "print(character)"
   ]
  },
  {
   "cell_type": "code",
   "execution_count": null,
   "metadata": {},
   "outputs": [],
   "source": [
    "# Update stats and modifiers with racial perks\n",
    "\n",
    "for stat in range(6):\n",
    "    if character['race']['abilityscores'][stat] == '-2':\n",
    "        character['statblock'][stat] = character['statblock'][stat] - 2\n",
    "        character['abilitymods'][stat] = modUpdate(character['statblock'][stat])\n",
    "    elif character['race']['abilityscores'][stat] == '+2':\n",
    "        character['statblock'][stat] = character['statblock'][stat] + 2\n",
    "        character['abilitymods'][stat] = modUpdate(character['statblock'][stat])\n",
    "    elif character['race']['abilityscores'][stat] == 'v':\n",
    "        varymod = input('\\nAs a ' + character['race']['name'] + ', you can +2 to one ability score.\\nWould you like to +2 to ' + abilities[stat] + '? (Yes or No) > ')\n",
    "        if varymod.lower() == 'yes':\n",
    "            character['statblock'][stat] = character['statblock'][stat] + 2\n",
    "            character['abilitymods'][stat] = modUpdate(character['statblock'][stat])\n",
    "        elif varymod.lower() == 'no':\n",
    "            character['statblock'][stat] = character['statblock'][stat]\n",
    "            character['abilitymods'][stat] = character['abilitymods'][stat]\n",
    "        else:\n",
    "            print('Error')\n",
    "    else:\n",
    "        character['statblock'][stat] = character['statblock'][stat]\n",
    "        character['abilitymods'][stat] = character['abilitymods'][stat]"
   ]
  },
  {
   "cell_type": "code",
   "execution_count": null,
   "metadata": {},
   "outputs": [],
   "source": []
  },
  {
   "cell_type": "code",
   "execution_count": null,
   "metadata": {},
   "outputs": [],
   "source": []
  },
  {
   "cell_type": "code",
   "execution_count": null,
   "metadata": {},
   "outputs": [],
   "source": []
  }
 ],
 "metadata": {
  "kernelspec": {
   "display_name": "Python 3",
   "language": "python",
   "name": "python3"
  },
  "language_info": {
   "codemirror_mode": {
    "name": "ipython",
    "version": 3
   },
   "file_extension": ".py",
   "mimetype": "text/x-python",
   "name": "python",
   "nbconvert_exporter": "python",
   "pygments_lexer": "ipython3",
   "version": "3.6.5"
  }
 },
 "nbformat": 4,
 "nbformat_minor": 2
}
